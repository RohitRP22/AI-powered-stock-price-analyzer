{
 "cells": [
  {
   "cell_type": "code",
   "execution_count": 1,
   "id": "122dd3a4-7a19-4320-ac3c-08c295303e17",
   "metadata": {},
   "outputs": [],
   "source": [
    "import os\n",
    "import requests\n",
    "from dotenv import load_dotenv\n",
    "from bs4 import BeautifulSoup\n",
    "from IPython.display import Markdown, display\n",
    "from openai import OpenAI"
   ]
  },
  {
   "cell_type": "code",
   "execution_count": 2,
   "id": "0c69d9b4-d9c7-4766-b684-f7ec4b83ea43",
   "metadata": {},
   "outputs": [
    {
     "name": "stdout",
     "output_type": "stream",
     "text": [
      "API key found and looks good so far!\n"
     ]
    }
   ],
   "source": [
    "load_dotenv(override = True)\n",
    "api_key = os.getenv(\"OPENAI_API_KEY\")\n",
    "\n",
    "# Check the key\n",
    "\n",
    "if not api_key:\n",
    "    print(\"No API key was found - please head over to the troubleshooting notebook in this folder to identify & fix!\")\n",
    "elif not api_key.startswith(\"sk-proj-\"):\n",
    "    print(\"An API key was found, but it doesn't start sk-proj-; please check you're using the right key - see troubleshooting notebook\")\n",
    "elif api_key.strip() != api_key:\n",
    "    print(\"An API key was found, but it looks like it might have space or tab characters at the start or end - please remove them - see troubleshooting notebook\")\n",
    "else:\n",
    "    print(\"API key found and looks good so far!\")"
   ]
  },
  {
   "cell_type": "code",
   "execution_count": 3,
   "id": "6ac8cabf-b3d8-413c-ab5b-de9018610c30",
   "metadata": {},
   "outputs": [],
   "source": [
    "openai = OpenAI()"
   ]
  },
  {
   "cell_type": "code",
   "execution_count": 4,
   "id": "ccd79409-60cb-497b-bcac-c22468eb46b7",
   "metadata": {},
   "outputs": [],
   "source": [
    "from urllib.parse import urlencode\n",
    "import datetime\n",
    "\n",
    "headers = {\n",
    " \"User-Agent\": \"Mozilla/5.0 (Windows NT 10.0; Win64; x64) AppleWebKit/537.36 (KHTML, like Gecko) Chrome/117.0.0.0 Safari/537.36\"\n",
    "}"
   ]
  },
  {
   "cell_type": "code",
   "execution_count": 5,
   "id": "2a236552-687b-4f1e-938f-9a66cc553958",
   "metadata": {},
   "outputs": [],
   "source": [
    "class YahooFinanceWebsite:\n",
    "    def __init__(self, stock_symbol):\n",
    "        \"\"\"\n",
    "        Create this Website object from the given url using the BeautifulSoup library\n",
    "        \"\"\"\n",
    "        self.stock_symbol = stock_symbol.upper()\n",
    "    def __build_url(self, params):\n",
    "        base_url = f\"https://finance.yahoo.com/quote/{self.stock_symbol}/history/\"\n",
    "        query_string = urlencode(params)\n",
    "        return f\"{base_url}?{query_string}\"\n",
    "    def get_stock_data(self):\n",
    "        datetime_now = datetime.datetime.now()\n",
    "        datetime_year_ago = datetime_now - datetime.timedelta(days=365)\n",
    "        params = {\"frequency\": \"1wk\", \"period1\": datetime_year_ago.timestamp(), \"period2\": datetime_now.timestamp()}\n",
    "        url = self.__build_url(params)\n",
    "        response = requests.get(url, headers=headers)\n",
    "\n",
    "        soup = BeautifulSoup(response.content, 'html.parser')\n",
    "        \n",
    "        title = soup.title.string if soup.title else \"No title found\"\n",
    "        for irrelevant in soup.body([\"script\", \"style\", \"img\", \"input\"]):\n",
    "            irrelevant.decompose()\n",
    "\n",
    "        html_table_data = soup.find(\"table\")\n",
    "\n",
    "        return title, html_table_data"
   ]
  },
  {
   "cell_type": "code",
   "execution_count": 6,
   "id": "e7eed814-4a4b-4d0f-88f4-11e6ee72f9c5",
   "metadata": {},
   "outputs": [],
   "source": [
    "def build_stock_analysis_prompt(stock_symbol, title, stock_table_data):\n",
    "    sys_prompt = r\"\"\"You are an assistant that analyzes the contents of HTML formated table that contains data on a specific stock.\n",
    "    The HTML table contains the date, open price, close price, low and highs aggregated for every week over one year timeframe.\n",
    "    Ignoring text, tags or html attributes that might be navigation related. \n",
    "    Respond in Markdown format\"\"\"\n",
    "    \n",
    "    user_prompt = f\"The data provided below in the HTML table format for {stock_symbol} from the Yahoo Finances.\\\n",
    "    Make the explaination easy enough for a newbie to understand. \\\n",
    "    Analyze and Summarize the trends on this stock:\\n{stock_table_data}\\n\\n\\\n",
    "    Also, calculate the total returns in percentage one could have expected over this period.\"\n",
    "    \n",
    "    return [\n",
    "        {\"role\": \"system\", \"content\": sys_prompt},\n",
    "        {\"role\": \"user\", \"content\": user_prompt}\n",
    "    ]"
   ]
  },
  {
   "cell_type": "code",
   "execution_count": 7,
   "id": "107fca6c-4f55-423c-ba41-f93a1b01f85b",
   "metadata": {},
   "outputs": [],
   "source": [
    "def analyze_stock_trends(stock_symbol):\n",
    "    stock_data_page = YahooFinanceWebsite(stock_symbol)\n",
    "    title, stock_table_data = stock_data_page.get_stock_data()\n",
    "    response = openai.chat.completions.create(\n",
    "        model = \"gpt-4o-mini\",\n",
    "        messages = build_stock_analysis_prompt(stock_symbol, title, stock_table_data)\n",
    "    )\n",
    "    return response.choices[0].message.content\n",
    "\n",
    "def display_analysis(stock_symbol):\n",
    "    display(Markdown(analyze_stock_trends(stock_symbol)))"
   ]
  },
  {
   "cell_type": "code",
   "execution_count": 8,
   "id": "ff6e783a-2e33-4691-a2fa-22b79229e16a",
   "metadata": {},
   "outputs": [
    {
     "data": {
      "text/markdown": [
       "## Analysis of SBIN.BO Stock Data\n",
       "\n",
       "The data you provided represents the weekly performance of the stock SBIN.BO over a year. Let’s break down the main elements and trends based on this historical data.\n",
       "\n",
       "### Key Metrics Explained\n",
       "1. **Open Price**: The stock price at the start of the trading week.\n",
       "2. **Close Price**: The stock price at the end of the trading week.\n",
       "3. **High Price**: The highest price reached during the week.\n",
       "4. **Low Price**: The lowest price reached during the week.\n",
       "5. **Volume**: The total shares traded during the week.\n",
       "\n",
       "### Trends Observed\n",
       "- **Price Movement**: \n",
       "  - The starting price several weeks ago ranged approximately between **740** and **800**, showing fluctuations with both upward and downward movements.\n",
       "  - Recent data points show that the stock price has experienced some volatility, reaching a peak of about **895** and a declining trend down towards the **700s** over the last few weeks.\n",
       "  \n",
       "- **Short-Term Trends**: \n",
       "  - The stock has shown both upward and downward fluctuations; for instance:\n",
       "    - The price reached a high of **795.40** at one point in the recent past and has subsequently declined to lower levels around **753** in recent weeks.\n",
       "    - Noticeably, the stock reached **732.75** before bouncing back, indicating a support level where buyers might be willing to step in.\n",
       "  \n",
       "- **Volume Analysis**:\n",
       "  - The **volume** has varied, with peaks indicating strong buying or selling interest. Notable weeks like **March 3, 2025**, recorded a high trading volume of **2,224,190**, which might imply significant interest or news impacting the stock.\n",
       "\n",
       "### Total Returns Calculation\n",
       "To determine the total returns as a percentage over this observation period, we use the formula:\n",
       "\n",
       "\\[\n",
       "\\text{Total Returns (\\%)} = \\left( \\frac{\\text{End Value} - \\text{Initial Value}}{\\text{Initial Value}} \\right) \\times 100\n",
       "\\]\n",
       "\n",
       "Assuming the **Initial Value** was around **740** (the weekly open on Jan 6, 2025), and the **End Value** is **753** (the weekly close on March 21, 2025):\n",
       "\n",
       "\\[\n",
       "\\text{Total Returns (\\%)} = \\left( \\frac{753 - 740}{740} \\right) \\times 100 = \\left( \\frac{13}{740} \\right) \\times 100 \\approx 1.76\\%\n",
       "\\]\n",
       "\n",
       "### Summary\n",
       "- **Stability**: The stock has shown periods of price stability with minor fluctuations and periods of volatility. \n",
       "- **Trend Direction**: Overall, it has been fluctuating around a central mean price, providing modest returns of approximately **1.76%** over the evaluated weeks.\n",
       "- **Investment Consideration**: Investors should keep in mind the market conditions, news updates for the stock, and broader economic factors which may impact stock performance going forward.\n",
       "\n",
       "In conclusion, consistent monitoring of price movements will be crucial for anyone looking to invest in SBIN.BO, keeping a close eye on both the opening and closing prices, as well as volume trends to make informed decisions."
      ],
      "text/plain": [
       "<IPython.core.display.Markdown object>"
      ]
     },
     "metadata": {},
     "output_type": "display_data"
    }
   ],
   "source": [
    "display_analysis(\"SBIN.BO\")"
   ]
  },
  {
   "cell_type": "code",
   "execution_count": 9,
   "id": "aa93397d-2475-4cc3-8d98-6aef7708bda6",
   "metadata": {},
   "outputs": [
    {
     "data": {
      "text/markdown": [
       "# Stock Analysis of ZOMATO.NS\n",
       "\n",
       "### Overview\n",
       "ZOMATO.NS is a stock listed on the National Stock Exchange in India. The provided data contains weekly trading information for approximately one year. For each week, we have the opening price, closing price, highest price, lowest price, closing price adjusted for splits/dividends, and trading volume.\n",
       "\n",
       "### Key Terms\n",
       "- **Open Price**: The stock price at the beginning of the trading week.\n",
       "- **Close Price**: The stock price at the end of the trading week.\n",
       "- **High Price**: The highest price achieved during the week.\n",
       "- **Low Price**: The lowest price recorded during the week.\n",
       "- **Adj Close**: The adjusted closing price that accounts for any stock splits and dividends.\n",
       "- **Volume**: The total number of shares traded during the week.\n",
       "\n",
       "### Trends Analysis\n",
       "1. **Price Movement**:\n",
       "   - The stock shows significant fluctuations over the year.\n",
       "   - Initially, in January 2024, ZOMATO.NS was trading around ₹274.50. The prices then fluctuated, showing a general downtrend until June 2024 where it dipped down to around ₹179.15.\n",
       "   - Starting from June 2024, there seems to be a steady rise in the stock price, reaching a high of ₹290.50 in September 2024 before experiencing another downtrend in the following months.\n",
       "\n",
       "2. **Recent Performance**:\n",
       "   - The most recent data point shows a closing price of ₹227.52 on March 21, 2025, recovering from a significantly low price before the February peak.\n",
       "   - Overall, the stock witnessed some of its highest trading volumes during the period of October to December 2024, indicating higher investor interest.\n",
       "\n",
       "3. **Volatility**:\n",
       "   - The stock demonstrates a significant level of volatility, with weekly highs and lows indicating considerable price swings. For example, the highest recorded price was around ₹304.70 in December 2024.\n",
       "\n",
       "### Total Return Calculation\n",
       "To calculate the total return over the period, we can use the opening price from the first week and the closing price from the most recent week:\n",
       "\n",
       "- **Opening Price (Jan 6, 2024)**: ₹274.50\n",
       "- **Closing Price (Mar 21, 2025)**: ₹227.52\n",
       "\n",
       "The formula for total return in percentage is:\n",
       "\\[\n",
       "\\text{Total Return (\\%)} = \\left( \\frac{\\text{Final Value} - \\text{Initial Value}}{\\text{Initial Value}} \\right) \\times 100\n",
       "\\]\n",
       "\n",
       "Calculating the total return:\n",
       "\\[\n",
       "\\text{Total Return} = \\left( \\frac{227.52 - 274.50}{274.50} \\right) \\times 100 = \\left( \\frac{-46.98}{274.50} \\right) \\times 100 \\approx -17.13\\%\n",
       "\\]\n",
       "\n",
       "### Summary\n",
       "ZOMATO.NS has shown significant price volatility over the past year with notable peaks and valleys. Despite having periods of high prices, the overall return from January 2024 to March 2025 is approximately -17.13%. This indicates that the investment would have decreased in value. Investors should be cautious and consider market conditions before making any decisions on ZOMATO.NS."
      ],
      "text/plain": [
       "<IPython.core.display.Markdown object>"
      ]
     },
     "metadata": {},
     "output_type": "display_data"
    }
   ],
   "source": [
    "display_analysis(\"ZOMATO.NS\")"
   ]
  },
  {
   "cell_type": "code",
   "execution_count": null,
   "id": "6322663a-5d9a-4a85-bd49-069f97a94263",
   "metadata": {},
   "outputs": [],
   "source": []
  }
 ],
 "metadata": {
  "kernelspec": {
   "display_name": "Python 3 (ipykernel)",
   "language": "python",
   "name": "python3"
  },
  "language_info": {
   "codemirror_mode": {
    "name": "ipython",
    "version": 3
   },
   "file_extension": ".py",
   "mimetype": "text/x-python",
   "name": "python",
   "nbconvert_exporter": "python",
   "pygments_lexer": "ipython3",
   "version": "3.11.11"
  }
 },
 "nbformat": 4,
 "nbformat_minor": 5
}
